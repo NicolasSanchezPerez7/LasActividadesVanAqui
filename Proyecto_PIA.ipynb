{
  "nbformat": 4,
  "nbformat_minor": 0,
  "metadata": {
    "colab": {
      "name": "Proyecto PIA.ipynb",
      "provenance": [],
      "include_colab_link": true
    },
    "kernelspec": {
      "name": "python3",
      "display_name": "Python 3"
    },
    "language_info": {
      "name": "python"
    }
  },
  "cells": [
    {
      "cell_type": "markdown",
      "metadata": {
        "id": "view-in-github",
        "colab_type": "text"
      },
      "source": [
        "<a href=\"https://colab.research.google.com/github/NicolasSanchezPerez7/LasActividadesVanAqui/blob/main/Proyecto_PIA.ipynb\" target=\"_parent\"><img src=\"https://colab.research.google.com/assets/colab-badge.svg\" alt=\"Open In Colab\"/></a>"
      ]
    },
    {
      "cell_type": "code",
      "execution_count": null,
      "metadata": {
        "id": "QDP0M7Vln0yD"
      },
      "outputs": [],
      "source": [
        "datos_entrenamiento = [\n",
        "    [1, 1, 0, 1, 'Infección de garganta'],\n",
        "    [0, 0, 1, 0, 'Alergia'],\n",
        "    [0, 0, 1, 1, 'Resfriado'],\n",
        "    [0, 0, 1, 0, 'Alergia'],\n",
        "    [1, 1, 1, 1, 'Infección de garganta'],\n",
        "    [0, 0, 1, 0, 'Resfriado'],\n",
        "    [1, 0, 1, 1, 'Resfriado'],\n",
        "    [1, 1, 0, 1, 'Infección de garganta'],\n",
        "    [0, 0, 1, 1, 'Resfriado'],\n",
        "]"
      ]
    },
    {
      "cell_type": "code",
      "source": [
        "#Síntomas\n",
        "etiquetas = [\"Fiebre\", \"Dolor de garganta\", \"Congestión\", \"Dolor de cabeza\", \"Diagnóstico\"]"
      ],
      "metadata": {
        "id": "4ugfkA_Mn7-V"
      },
      "execution_count": null,
      "outputs": []
    },
    {
      "cell_type": "code",
      "source": [
        "def unicos_valores(filas, columnas): return set([fila[columnas] for fila in filas])"
      ],
      "metadata": {
        "id": "qOHzuYvNn__n"
      },
      "execution_count": null,
      "outputs": []
    },
    {
      "cell_type": "code",
      "source": [
        "unicos_valores(datos_entrenamiento, 4)"
      ],
      "metadata": {
        "colab": {
          "base_uri": "https://localhost:8080/"
        },
        "id": "aAa-rVtpoDSw",
        "outputId": "1c952b63-1d0e-4a08-b295-19ecd6f06fc8"
      },
      "execution_count": null,
      "outputs": [
        {
          "output_type": "execute_result",
          "data": {
            "text/plain": [
              "{'Alergia', 'Infección de garganta', 'Resfriado'}"
            ]
          },
          "metadata": {},
          "execution_count": 4
        }
      ]
    },
    {
      "cell_type": "code",
      "source": [
        "def class_contar(filas):\n",
        "    contar = {}\n",
        "    for fila in filas:\n",
        "        contenido = fila[-1]\n",
        "        if contenido not in contar:\n",
        "            contar[contenido] = 0\n",
        "        contar[contenido] += 1\n",
        "    return contar"
      ],
      "metadata": {
        "id": "XR1AsDNooHID"
      },
      "execution_count": null,
      "outputs": []
    },
    {
      "cell_type": "code",
      "source": [
        "#contar etiquetas de los datos de entrenamiento\n",
        "class_contar(datos_entrenamiento)"
      ],
      "metadata": {
        "colab": {
          "base_uri": "https://localhost:8080/"
        },
        "id": "CrY0_PqPoKVA",
        "outputId": "a09344fe-bb35-4048-aecb-b90ed921a8a0"
      },
      "execution_count": null,
      "outputs": [
        {
          "output_type": "execute_result",
          "data": {
            "text/plain": [
              "{'Alergia': 2, 'Infección de garganta': 3, 'Resfriado': 4}"
            ]
          },
          "metadata": {},
          "execution_count": 6
        }
      ]
    },
    {
      "cell_type": "code",
      "source": [
        "def es_numerico(valor): return isinstance(valor, int) or isinstance(valor, float)"
      ],
      "metadata": {
        "id": "DNI1uHKooMw7"
      },
      "execution_count": null,
      "outputs": []
    },
    {
      "cell_type": "code",
      "source": [
        "es_numerico(7)"
      ],
      "metadata": {
        "colab": {
          "base_uri": "https://localhost:8080/"
        },
        "id": "SKqifq4-oQME",
        "outputId": "614706f5-1da2-4d09-fde2-0eec6dcc6200"
      },
      "execution_count": null,
      "outputs": [
        {
          "output_type": "execute_result",
          "data": {
            "text/plain": [
              "True"
            ]
          },
          "metadata": {},
          "execution_count": 8
        }
      ]
    },
    {
      "cell_type": "code",
      "source": [
        "class Evaluar:\n",
        "\n",
        "    def __init__(self, column, value):\n",
        "        self.column = column\n",
        "        self.value = value\n",
        "\n",
        "    def comparar(self, example):\n",
        "        val = example[self.column]\n",
        "        if es_numerico(val):\n",
        "            return val >= self.value\n",
        "        else:\n",
        "            return val == self.value\n",
        "\n",
        "    def __repr__(self):\n",
        "        condition = \"==\"\n",
        "        if es_numerico(self.value):\n",
        "            condition = \">=\"\n",
        "        return \"Is %s %s %s?\" % (\n",
        "            etiquetas[self.column], condition, str(self.value))"
      ],
      "metadata": {
        "id": "dkS1Uv6yoTRN"
      },
      "execution_count": null,
      "outputs": []
    },
    {
      "cell_type": "code",
      "source": [
        "Evaluar(2, 3)"
      ],
      "metadata": {
        "colab": {
          "base_uri": "https://localhost:8080/"
        },
        "id": "iAbs5DdCoWfL",
        "outputId": "712a3fad-db39-454e-e9e5-eface8f0a2b6"
      },
      "execution_count": null,
      "outputs": [
        {
          "output_type": "execute_result",
          "data": {
            "text/plain": [
              "Is Congestión >= 3?"
            ]
          },
          "metadata": {},
          "execution_count": 10
        }
      ]
    },
    {
      "cell_type": "code",
      "source": [
        "q = Evaluar(0, 1)\n",
        "q"
      ],
      "metadata": {
        "colab": {
          "base_uri": "https://localhost:8080/"
        },
        "id": "oIHN_C1XoaNq",
        "outputId": "2c9fa96b-2b9f-412d-e565-a3c4d9cbaa0f"
      },
      "execution_count": null,
      "outputs": [
        {
          "output_type": "execute_result",
          "data": {
            "text/plain": [
              "Is Fiebre >= 1?"
            ]
          },
          "metadata": {},
          "execution_count": 11
        }
      ]
    },
    {
      "cell_type": "code",
      "source": [
        "example = datos_entrenamiento[0]\n",
        "q.comparar(example)"
      ],
      "metadata": {
        "colab": {
          "base_uri": "https://localhost:8080/"
        },
        "id": "fdak82S6odXH",
        "outputId": "bc2483cd-1baf-4663-f653-648c651e9354"
      },
      "execution_count": null,
      "outputs": [
        {
          "output_type": "execute_result",
          "data": {
            "text/plain": [
              "True"
            ]
          },
          "metadata": {},
          "execution_count": 12
        }
      ]
    },
    {
      "cell_type": "code",
      "source": [
        "def particionar(filas, evaluar):\n",
        "    filas_acertadas, filas_erradas = [], []\n",
        "    for fila in filas:\n",
        "        if evaluar.comparar(fila):\n",
        "            filas_acertadas.append(fila)\n",
        "        else:\n",
        "            filas_erradas.append(fila)\n",
        "    return filas_acertadas, filas_erradas"
      ],
      "metadata": {
        "id": "imdnrV4gofUU"
      },
      "execution_count": null,
      "outputs": []
    },
    {
      "cell_type": "code",
      "source": [
        "filas_acertadas, filas_erradas = particionar(datos_entrenamiento, Evaluar(1, 1)) \n",
        "filas_acertadas"
      ],
      "metadata": {
        "colab": {
          "base_uri": "https://localhost:8080/"
        },
        "id": "Wg6ika6pof-S",
        "outputId": "b36e0492-90f8-405c-93a6-e3288d180396"
      },
      "execution_count": null,
      "outputs": [
        {
          "output_type": "execute_result",
          "data": {
            "text/plain": [
              "[[1, 1, 0, 1, 'Infección de garganta'],\n",
              " [1, 1, 1, 1, 'Infección de garganta'],\n",
              " [1, 1, 0, 1, 'Infección de garganta']]"
            ]
          },
          "metadata": {},
          "execution_count": 14
        }
      ]
    },
    {
      "cell_type": "code",
      "source": [
        "filas_erradas"
      ],
      "metadata": {
        "colab": {
          "base_uri": "https://localhost:8080/"
        },
        "id": "aL7U0Kw6oi-c",
        "outputId": "9b18aa93-5924-4327-ed54-8cfce8430fbc"
      },
      "execution_count": null,
      "outputs": [
        {
          "output_type": "execute_result",
          "data": {
            "text/plain": [
              "[[0, 0, 1, 0, 'Alergia'],\n",
              " [0, 0, 1, 1, 'Resfriado'],\n",
              " [0, 0, 1, 0, 'Alergia'],\n",
              " [0, 0, 1, 0, 'Resfriado'],\n",
              " [1, 0, 1, 1, 'Resfriado'],\n",
              " [0, 0, 1, 1, 'Resfriado']]"
            ]
          },
          "metadata": {},
          "execution_count": 15
        }
      ]
    },
    {
      "cell_type": "code",
      "source": [
        "def incertidumbre(filas):\n",
        "    conteo = class_contar(filas)\n",
        "    impureza = 1\n",
        "    for datos in conteo:\n",
        "        prob_de_datos = conteo[datos] / float(len(filas))\n",
        "        impureza -= prob_de_datos**2\n",
        "    return impureza"
      ],
      "metadata": {
        "id": "c96wNE3nolDR"
      },
      "execution_count": null,
      "outputs": []
    },
    {
      "cell_type": "code",
      "source": [
        "incertidumbre_actual = incertidumbre(datos_entrenamiento)\n",
        "incertidumbre_actual"
      ],
      "metadata": {
        "colab": {
          "base_uri": "https://localhost:8080/"
        },
        "id": "0A530Av1ooIH",
        "outputId": "ba1497da-9999-4f8d-8f8e-27765ca8274a"
      },
      "execution_count": null,
      "outputs": [
        {
          "output_type": "execute_result",
          "data": {
            "text/plain": [
              "0.6419753086419753"
            ]
          },
          "metadata": {},
          "execution_count": 17
        }
      ]
    },
    {
      "cell_type": "code",
      "source": [
        "def informacion_seguimiento(izquierda, derecha, incertidumbre_actual):\n",
        "    p = float(len(izquierda)) / (len(izquierda) + len(derecha))\n",
        "    return incertidumbre_actual - p * incertidumbre(izquierda) - (1 - p) * incertidumbre(derecha)"
      ],
      "metadata": {
        "id": "S-HwHQ7RorGN"
      },
      "execution_count": null,
      "outputs": []
    },
    {
      "cell_type": "code",
      "source": [
        "filas_acertadas, filas_erradas = particionar(datos_entrenamiento, Evaluar(1, 1)) \n",
        "informacion_seguimiento(filas_acertadas, filas_erradas, incertidumbre_actual)"
      ],
      "metadata": {
        "colab": {
          "base_uri": "https://localhost:8080/"
        },
        "id": "zY8dg_jAos1h",
        "outputId": "8a572625-5b24-40d4-b7d7-c99702b560b8"
      },
      "execution_count": null,
      "outputs": [
        {
          "output_type": "execute_result",
          "data": {
            "text/plain": [
              "0.34567901234567894"
            ]
          },
          "metadata": {},
          "execution_count": 19
        }
      ]
    },
    {
      "cell_type": "code",
      "source": [
        "def encontrar_mejor_ruta(filas):\n",
        "    \n",
        "    mejor_seguimiento = 0\n",
        "    mejor_evaluacion = None\n",
        "    incertidumbre_actual = incertidumbre(filas)\n",
        "    numero_columnas = len(filas[0]) - 1\n",
        "\n",
        "    for columnas in range(numero_columnas):\n",
        "\n",
        "        valores = set([fila[columnas] for fila in filas])\n",
        "\n",
        "        for valor in valores:\n",
        "\n",
        "            evaluar = Evaluar(columnas, valor)\n",
        "            filas_acertadas, filas_erradas = particionar(filas, evaluar)\n",
        "\n",
        "            if len(filas_acertadas) == 0 or len(filas_erradas) == 0:\n",
        "                continue\n",
        "\n",
        "            info = informacion_seguimiento(filas_acertadas, filas_erradas, incertidumbre_actual)\n",
        "\n",
        "            if info >= mejor_seguimiento:\n",
        "                mejor_seguimiento, mejor_evaluacion = info, evaluar\n",
        "\n",
        "    return mejor_seguimiento, mejor_evaluacion"
      ],
      "metadata": {
        "id": "gKDRkdHxou3N"
      },
      "execution_count": null,
      "outputs": []
    },
    {
      "cell_type": "code",
      "source": [
        "mejor_seguimiento, mejor_evaluacion = encontrar_mejor_ruta(datos_entrenamiento)\n",
        "mejor_seguimiento"
      ],
      "metadata": {
        "colab": {
          "base_uri": "https://localhost:8080/"
        },
        "id": "xlbp9MNUozLo",
        "outputId": "bf1d7e05-2f20-4be1-fda0-7dd43f391baf"
      },
      "execution_count": null,
      "outputs": [
        {
          "output_type": "execute_result",
          "data": {
            "text/plain": [
              "0.34567901234567894"
            ]
          },
          "metadata": {},
          "execution_count": 21
        }
      ]
    },
    {
      "cell_type": "code",
      "source": [
        "mejor_evaluacion"
      ],
      "metadata": {
        "colab": {
          "base_uri": "https://localhost:8080/"
        },
        "id": "7Fmjql6Ko2lh",
        "outputId": "c59ef2aa-a6da-44d4-8c27-77fad1541ccb"
      },
      "execution_count": null,
      "outputs": [
        {
          "output_type": "execute_result",
          "data": {
            "text/plain": [
              "Is Dolor de garganta >= 1?"
            ]
          },
          "metadata": {},
          "execution_count": 22
        }
      ]
    },
    {
      "cell_type": "code",
      "source": [
        "class clasificacion:\n",
        "   \n",
        "    def __init__(self, filas):\n",
        "        self.prediccion = class_contar(filas)"
      ],
      "metadata": {
        "id": "Gx7qy5_po4GG"
      },
      "execution_count": null,
      "outputs": []
    },
    {
      "cell_type": "code",
      "source": [
        "class decidir_nodo:\n",
        "\n",
        "    def __init__(self, evaluar, rama_correcta, rama_incorrecta):\n",
        "        self.evaluar = evaluar\n",
        "        self.rama_correcta = rama_correcta\n",
        "        self.rama_incorrecta = rama_incorrecta"
      ],
      "metadata": {
        "id": "jq_RKAjmo4ND"
      },
      "execution_count": null,
      "outputs": []
    },
    {
      "cell_type": "code",
      "source": [
        "def construir_arbol(filas):\n",
        "\n",
        "    info, evaluar = encontrar_mejor_ruta(filas)\n",
        "\n",
        "    if info == 0:\n",
        "        return clasificacion(filas)\n",
        "\n",
        "    filas_acertadas, filas_erradas = particionar(filas, evaluar)\n",
        "    rama_correcta = construir_arbol(filas_acertadas)\n",
        "    rama_incorrecta = construir_arbol(filas_erradas)\n",
        "\n",
        "    return decidir_nodo(evaluar, rama_correcta, rama_incorrecta)"
      ],
      "metadata": {
        "id": "D_0gFisro4ud"
      },
      "execution_count": null,
      "outputs": []
    },
    {
      "cell_type": "code",
      "source": [
        "def imprimir_arbol(nodo, espacio=\"\"):\n",
        "\n",
        "    if isinstance(nodo, clasificacion):\n",
        "        print (espacio + \"Predict\", nodo.prediccion)\n",
        "        return\n",
        "\n",
        "    print (espacio + str(nodo.evaluar))\n",
        "\n",
        "    print (espacio + '--> True:')\n",
        "    imprimir_arbol(nodo.rama_correcta, espacio + \"  \")\n",
        "\n",
        "    print (espacio + '--> False:')\n",
        "    imprimir_arbol(nodo.rama_incorrecta, espacio + \"  \")"
      ],
      "metadata": {
        "id": "7954HJhqo40K"
      },
      "execution_count": null,
      "outputs": []
    },
    {
      "cell_type": "code",
      "source": [
        "mi_arbol = construir_arbol(datos_entrenamiento)"
      ],
      "metadata": {
        "id": "G2O5DDBSo5AR"
      },
      "execution_count": null,
      "outputs": []
    },
    {
      "cell_type": "code",
      "source": [
        "imprimir_arbol(mi_arbol)"
      ],
      "metadata": {
        "colab": {
          "base_uri": "https://localhost:8080/"
        },
        "id": "lsK_QcmEpB_X",
        "outputId": "114b5817-9305-43d1-8960-7ef89584d06f"
      },
      "execution_count": null,
      "outputs": [
        {
          "output_type": "stream",
          "name": "stdout",
          "text": [
            "Is Dolor de garganta >= 1?\n",
            "--> True:\n",
            "  Predict {'Infección de garganta': 3}\n",
            "--> False:\n",
            "  Is Dolor de cabeza >= 1?\n",
            "  --> True:\n",
            "    Predict {'Resfriado': 3}\n",
            "  --> False:\n",
            "    Predict {'Alergia': 2, 'Resfriado': 1}\n"
          ]
        }
      ]
    },
    {
      "cell_type": "code",
      "source": [
        "def clasificar(fila, nodo):\n",
        "\n",
        "    if isinstance(nodo, clasificacion):\n",
        "        return nodo.prediccion\n",
        "\n",
        "    if nodo.evaluar.comparar(fila):\n",
        "        return clasificar(fila, nodo.rama_correcta)\n",
        "    else:\n",
        "        return clasificar(fila, nodo.rama_incorrecta)"
      ],
      "metadata": {
        "id": "bbHOTQ0OpCET"
      },
      "execution_count": null,
      "outputs": []
    },
    {
      "cell_type": "code",
      "source": [
        "clasificar(datos_entrenamiento[0], mi_arbol)"
      ],
      "metadata": {
        "colab": {
          "base_uri": "https://localhost:8080/"
        },
        "id": "eykfQqbgpCJM",
        "outputId": "a3fd3d64-0b5c-46c1-b717-767df1308128"
      },
      "execution_count": null,
      "outputs": [
        {
          "output_type": "execute_result",
          "data": {
            "text/plain": [
              "{'Infección de garganta': 3}"
            ]
          },
          "metadata": {},
          "execution_count": 30
        }
      ]
    },
    {
      "cell_type": "code",
      "source": [
        "def imprimir_clasificacion(conteo):\n",
        "    total = sum(conteo.values()) * 1.0\n",
        "    probabilidades = {}\n",
        "    for datos in conteo.keys():\n",
        "        probabilidades[datos] = str(int(conteo[datos] / total * 100)) + \"%\"\n",
        "    return probabilidades"
      ],
      "metadata": {
        "id": "Hx3MA-uhpCM_"
      },
      "execution_count": null,
      "outputs": []
    },
    {
      "cell_type": "code",
      "source": [
        "imprimir_clasificacion(clasificar(datos_entrenamiento[1], mi_arbol))"
      ],
      "metadata": {
        "colab": {
          "base_uri": "https://localhost:8080/"
        },
        "id": "-_sAn1n6pCQF",
        "outputId": "4376a4c4-4225-4525-e773-9789bde45a8f"
      },
      "execution_count": null,
      "outputs": [
        {
          "output_type": "execute_result",
          "data": {
            "text/plain": [
              "{'Alergia': '66%', 'Resfriado': '33%'}"
            ]
          },
          "metadata": {},
          "execution_count": 32
        }
      ]
    },
    {
      "cell_type": "code",
      "source": [
        "evaluar_datos = [\n",
        "    [1, 0, 1, 1, '¿?'],\n",
        "    [0, 0, 1, 0, '¿?'],\n",
        "]"
      ],
      "metadata": {
        "id": "Fm0bC2B1pCTJ"
      },
      "execution_count": null,
      "outputs": []
    },
    {
      "cell_type": "code",
      "source": [
        "for fila in evaluar_datos:\n",
        "    print (\"Diagnóstico: %s\" %\n",
        "           (imprimir_clasificacion(clasificar(fila, mi_arbol))))"
      ],
      "metadata": {
        "colab": {
          "base_uri": "https://localhost:8080/"
        },
        "id": "iDfwNp0WpCW9",
        "outputId": "b8532cdd-949f-4d37-e816-93ba6bea7036"
      },
      "execution_count": null,
      "outputs": [
        {
          "output_type": "stream",
          "name": "stdout",
          "text": [
            "Diagnóstico: {'Resfriado': '100%'}\n",
            "Diagnóstico: {'Alergia': '66%', 'Resfriado': '33%'}\n"
          ]
        }
      ]
    }
  ]
}