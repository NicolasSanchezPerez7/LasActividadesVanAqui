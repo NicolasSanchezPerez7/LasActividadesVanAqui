{
  "nbformat": 4,
  "nbformat_minor": 0,
  "metadata": {
    "colab": {
      "name": "A2: Ejercicios Básicos en Python",
      "provenance": [],
      "collapsed_sections": []
    },
    "kernelspec": {
      "name": "python3",
      "display_name": "Python 3"
    },
    "language_info": {
      "name": "python"
    }
  },
  "cells": [
    {
      "cell_type": "code",
      "execution_count": 1,
      "metadata": {
        "colab": {
          "base_uri": "https://localhost:8080/"
        },
        "id": "mmzbDy8_XBfw",
        "outputId": "630d0e09-efc1-4f40-9eb1-fbcefe04e634"
      },
      "outputs": [
        {
          "output_type": "stream",
          "name": "stdout",
          "text": [
            "[6, 5, 4, 3, 2]\n"
          ]
        }
      ],
      "source": [
        "# Nicolas Sanchez Perez 2030344 IMTC JN1\n",
        "lista = [2,3,4,5,6]\n",
        "lista2 = lista[::-1]\n",
        "print(lista2)\n",
        "\n",
        "\n"
      ]
    },
    {
      "cell_type": "code",
      "source": [
        "# Nicolas Sanchez Perez 2030344 IMTC JN1\n",
        "#Miguel Angel Oyervides Torres 1850276 IMTC JN1\n",
        "#Ejercicio 2\n",
        "print (\"hola,mucho gusto dime tu nombre\")\n",
        "name = input()\n",
        "if name == 'Pedro':\n",
        "    print('Hasta luego usted no aplica Señor Pedro')\n",
        "if name == \"Ana\":\n",
        "    print('Hasta luego usted no aplica Señorita Ana')\n",
        "if name == \"Juan\":\n",
        "    print('Hasta luego usted no aplica Señor Juan')\n",
        "else:\n",
        "    print('Mucho gusto, {}'.format(name))\n"
      ],
      "metadata": {
        "colab": {
          "base_uri": "https://localhost:8080/"
        },
        "id": "hWJI4Zo0FNLN",
        "outputId": "76e2c0cd-1fea-41d8-f4a8-218518f7f226"
      },
      "execution_count": 5,
      "outputs": [
        {
          "output_type": "stream",
          "name": "stdout",
          "text": [
            "hola,mucho gusto dime tu nombre\n",
            "Nicolas\n",
            "Mucho gusto, Nicolas\n"
          ]
        }
      ]
    },
    {
      "cell_type": "code",
      "source": [
        "# Nicolas Sanchez Perez 2030344 IMTC JN1\n",
        "def hello_world(words):\n",
        "  \n",
        "    size = max(len(word) for word in words)\n",
        "    print(\"*\"*(size+4))\n",
        "\n",
        "    for i in words:\n",
        "      print(\"*\"+\" \"+i+\" \"*((size+4)-len(i)-3)+\"*\")\n",
        "\n",
        "    print(\"*\"*(size+4))   \n",
        "\n",
        "hello_world([\"hola\",\"a\",\"todos\",\"esto\",\"es\",\"un\",\"marco\"])"
      ],
      "metadata": {
        "colab": {
          "base_uri": "https://localhost:8080/"
        },
        "id": "vO6eDNyzelWN",
        "outputId": "d917e19d-b78d-4e36-af93-3e0afb48427c"
      },
      "execution_count": null,
      "outputs": [
        {
          "output_type": "stream",
          "name": "stdout",
          "text": [
            "*********\n",
            "* hola  *\n",
            "* a     *\n",
            "* todos *\n",
            "* esto  *\n",
            "* es    *\n",
            "* un    *\n",
            "* marco *\n",
            "*********\n"
          ]
        }
      ]
    }
  ]
}